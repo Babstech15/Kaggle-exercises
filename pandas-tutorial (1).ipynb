{
 "cells": [
  {
   "cell_type": "code",
   "execution_count": 3,
   "metadata": {
    "_cell_guid": "b1076dfc-b9ad-4769-8c92-a6c4dae69d19",
    "_uuid": "8f2839f25d086af736a60e9eeb907d3b93b6e0e5",
    "execution": {
     "iopub.execute_input": "2022-08-19T15:15:53.781117Z",
     "iopub.status.busy": "2022-08-19T15:15:53.780712Z",
     "iopub.status.idle": "2022-08-19T15:15:53.788445Z",
     "shell.execute_reply": "2022-08-19T15:15:53.786998Z",
     "shell.execute_reply.started": "2022-08-19T15:15:53.781086Z"
    }
   },
   "outputs": [],
   "source": [
    "# This Python 3 environment comes with many helpful analytics libraries installed\n",
    "# It is defined by the kaggle/python Docker image: https://github.com/kaggle/docker-python\n",
    "# For example, here's several helpful packages to load\n",
    "\n",
    "import numpy as np # linear algebra\n",
    "import pandas as pd # data processing, CSV file I/O (e.g. pd.read_csv)\n",
    "\n",
    "# Input data files are available in the read-only \"../input/\" directory\n",
    "# For example, running this (by clicking run or pressing Shift+Enter) will list all files under the input directory\n",
    "\n",
    "import os\n",
    "for dirname, _, filenames in os.walk('/kaggle/input'):\n",
    "    for filename in filenames:\n",
    "        print(os.path.join(dirname, filename))\n",
    "\n",
    "# You can write up to 20GB to the current directory (/kaggle/working/) that gets preserved as output when you create a version using \"Save & Run All\" \n",
    "# You can also write temporary files to /kaggle/temp/, but they won't be saved outside of the current session"
   ]
  },
  {
   "cell_type": "code",
   "execution_count": 1,
   "metadata": {
    "execution": {
     "iopub.execute_input": "2022-08-19T15:15:46.581513Z",
     "iopub.status.busy": "2022-08-19T15:15:46.581080Z",
     "iopub.status.idle": "2022-08-19T15:15:46.587468Z",
     "shell.execute_reply": "2022-08-19T15:15:46.586348Z",
     "shell.execute_reply.started": "2022-08-19T15:15:46.581477Z"
    }
   },
   "outputs": [],
   "source": [
    "import pandas as pd"
   ]
  },
  {
   "cell_type": "code",
   "execution_count": 2,
   "metadata": {
    "execution": {
     "iopub.execute_input": "2022-08-19T15:15:59.620265Z",
     "iopub.status.busy": "2022-08-19T15:15:59.619830Z",
     "iopub.status.idle": "2022-08-19T15:15:59.646905Z",
     "shell.execute_reply": "2022-08-19T15:15:59.645722Z",
     "shell.execute_reply.started": "2022-08-19T15:15:59.620227Z"
    }
   },
   "outputs": [
    {
     "data": {
      "text/html": [
       "<div>\n",
       "<style scoped>\n",
       "    .dataframe tbody tr th:only-of-type {\n",
       "        vertical-align: middle;\n",
       "    }\n",
       "\n",
       "    .dataframe tbody tr th {\n",
       "        vertical-align: top;\n",
       "    }\n",
       "\n",
       "    .dataframe thead th {\n",
       "        text-align: right;\n",
       "    }\n",
       "</style>\n",
       "<table border=\"1\" class=\"dataframe\">\n",
       "  <thead>\n",
       "    <tr style=\"text-align: right;\">\n",
       "      <th></th>\n",
       "      <th>Subjects</th>\n",
       "      <th>Scores</th>\n",
       "    </tr>\n",
       "  </thead>\n",
       "  <tbody>\n",
       "    <tr>\n",
       "      <th>ColumnA</th>\n",
       "      <td>Biology</td>\n",
       "      <td>78</td>\n",
       "    </tr>\n",
       "    <tr>\n",
       "      <th>ColumnB</th>\n",
       "      <td>English Language</td>\n",
       "      <td>71</td>\n",
       "    </tr>\n",
       "    <tr>\n",
       "      <th>ColumnC</th>\n",
       "      <td>Physics</td>\n",
       "      <td>98</td>\n",
       "    </tr>\n",
       "  </tbody>\n",
       "</table>\n",
       "</div>"
      ],
      "text/plain": [
       "                 Subjects  Scores\n",
       "ColumnA           Biology      78\n",
       "ColumnB  English Language      71\n",
       "ColumnC           Physics      98"
      ]
     },
     "execution_count": 2,
     "metadata": {},
     "output_type": "execute_result"
    }
   ],
   "source": [
    "pd.DataFrame({\"Subjects\": [\"Biology\",\"English Language\",\"Physics\"],\"Scores\": [78,71,98]}, index = [\"ColumnA\",\"ColumnB\",\"ColumnC\"])\n"
   ]
  },
  {
   "cell_type": "code",
   "execution_count": 3,
   "metadata": {
    "execution": {
     "iopub.execute_input": "2022-08-19T15:35:42.861261Z",
     "iopub.status.busy": "2022-08-19T15:35:42.860833Z",
     "iopub.status.idle": "2022-08-19T15:35:42.875309Z",
     "shell.execute_reply": "2022-08-19T15:35:42.874353Z",
     "shell.execute_reply.started": "2022-08-19T15:35:42.861226Z"
    }
   },
   "outputs": [
    {
     "name": "stdout",
     "output_type": "stream",
     "text": [
      "Physics Courses in 100L\n"
     ]
    },
    {
     "data": {
      "text/html": [
       "<div>\n",
       "<style scoped>\n",
       "    .dataframe tbody tr th:only-of-type {\n",
       "        vertical-align: middle;\n",
       "    }\n",
       "\n",
       "    .dataframe tbody tr th {\n",
       "        vertical-align: top;\n",
       "    }\n",
       "\n",
       "    .dataframe thead th {\n",
       "        text-align: right;\n",
       "    }\n",
       "</style>\n",
       "<table border=\"1\" class=\"dataframe\">\n",
       "  <thead>\n",
       "    <tr style=\"text-align: right;\">\n",
       "      <th></th>\n",
       "      <th>Course_Code</th>\n",
       "      <th>Course_Unit</th>\n",
       "    </tr>\n",
       "  </thead>\n",
       "  <tbody>\n",
       "    <tr>\n",
       "      <th>Introductory Mechanics and Property of Matter</th>\n",
       "      <td>PHY102</td>\n",
       "      <td>3</td>\n",
       "    </tr>\n",
       "    <tr>\n",
       "      <th>Introductory Heat and Thermodynamics</th>\n",
       "      <td>PHY103</td>\n",
       "      <td>3</td>\n",
       "    </tr>\n",
       "    <tr>\n",
       "      <th>Introductory Electricity and Magnetism</th>\n",
       "      <td>PHY104</td>\n",
       "      <td>3</td>\n",
       "    </tr>\n",
       "    <tr>\n",
       "      <th>Introductory Waves and Modern Physics</th>\n",
       "      <td>PHY105</td>\n",
       "      <td>3</td>\n",
       "    </tr>\n",
       "    <tr>\n",
       "      <th>Experimental Physics</th>\n",
       "      <td>PHY118</td>\n",
       "      <td>3</td>\n",
       "    </tr>\n",
       "  </tbody>\n",
       "</table>\n",
       "</div>"
      ],
      "text/plain": [
       "                                              Course_Code  Course_Unit\n",
       "Introductory Mechanics and Property of Matter      PHY102            3\n",
       "Introductory Heat and Thermodynamics               PHY103            3\n",
       "Introductory Electricity and Magnetism             PHY104            3\n",
       "Introductory Waves and Modern Physics              PHY105            3\n",
       "Experimental Physics                               PHY118            3"
      ]
     },
     "execution_count": 3,
     "metadata": {},
     "output_type": "execute_result"
    }
   ],
   "source": [
    "print(\"Physics Courses in 100L\")\n",
    "courses = pd.DataFrame({\"Course_Code\": [\"PHY102\",\"PHY103\",\"PHY104\",\"PHY105\",\"PHY118\"], \"Course_Unit\": [3,3,3,3,3]}, index = [\"Introductory Mechanics and Property of Matter\",\"Introductory Heat and Thermodynamics\",\"Introductory Electricity and Magnetism\",\"Introductory Waves and Modern Physics\",\"Experimental Physics\"])\n",
    "courses"
   ]
  },
  {
   "cell_type": "code",
   "execution_count": 4,
   "metadata": {
    "execution": {
     "iopub.execute_input": "2022-08-19T14:05:57.253022Z",
     "iopub.status.busy": "2022-08-19T14:05:57.252187Z",
     "iopub.status.idle": "2022-08-19T14:05:57.264743Z",
     "shell.execute_reply": "2022-08-19T14:05:57.262861Z",
     "shell.execute_reply.started": "2022-08-19T14:05:57.252979Z"
    }
   },
   "outputs": [
    {
     "data": {
      "text/plain": [
       "PHY102    82\n",
       "PHY103    89\n",
       "PHY104    72\n",
       "PHY105    83\n",
       "dtype: int64"
      ]
     },
     "execution_count": 4,
     "metadata": {},
     "output_type": "execute_result"
    }
   ],
   "source": [
    "pd.Series([82,89,72,83], index = [\"PHY102\",\"PHY103\",\"PHY104\",\"PHY105\"])"
   ]
  },
  {
   "cell_type": "code",
   "execution_count": 5,
   "metadata": {
    "execution": {
     "iopub.execute_input": "2022-08-19T15:20:49.970821Z",
     "iopub.status.busy": "2022-08-19T15:20:49.970385Z",
     "iopub.status.idle": "2022-08-19T15:20:49.980100Z",
     "shell.execute_reply": "2022-08-19T15:20:49.979175Z",
     "shell.execute_reply.started": "2022-08-19T15:20:49.970785Z"
    }
   },
   "outputs": [
    {
     "data": {
      "text/plain": [
       "Course_Code    PHY118\n",
       "Course_Unit         3\n",
       "Name: Experimental Physics, dtype: object"
      ]
     },
     "execution_count": 5,
     "metadata": {},
     "output_type": "execute_result"
    }
   ],
   "source": [
    "courses.iloc[:2, 0]\n",
    "courses.iloc[0]\n",
    "courses.iloc[-1]"
   ]
  },
  {
   "cell_type": "code",
   "execution_count": 6,
   "metadata": {
    "execution": {
     "iopub.execute_input": "2022-08-19T15:25:28.330603Z",
     "iopub.status.busy": "2022-08-19T15:25:28.329906Z",
     "iopub.status.idle": "2022-08-19T15:25:28.340093Z",
     "shell.execute_reply": "2022-08-19T15:25:28.339089Z",
     "shell.execute_reply.started": "2022-08-19T15:25:28.330564Z"
    }
   },
   "outputs": [
    {
     "data": {
      "text/plain": [
       "Introductory Mechanics and Property of Matter    PHY102\n",
       "Introductory Heat and Thermodynamics             PHY103\n",
       "Name: Course_Code, dtype: object"
      ]
     },
     "execution_count": 6,
     "metadata": {},
     "output_type": "execute_result"
    }
   ],
   "source": [
    "courses.iloc[:2,0]"
   ]
  },
  {
   "cell_type": "code",
   "execution_count": 7,
   "metadata": {
    "execution": {
     "iopub.execute_input": "2022-08-19T15:27:41.337664Z",
     "iopub.status.busy": "2022-08-19T15:27:41.336042Z",
     "iopub.status.idle": "2022-08-19T15:27:41.352732Z",
     "shell.execute_reply": "2022-08-19T15:27:41.351471Z",
     "shell.execute_reply.started": "2022-08-19T15:27:41.337583Z"
    }
   },
   "outputs": [
    {
     "data": {
      "text/plain": [
       "Introductory Heat and Thermodynamics      PHY103\n",
       "Introductory Electricity and Magnetism    PHY104\n",
       "Introductory Waves and Modern Physics     PHY105\n",
       "Name: Course_Code, dtype: object"
      ]
     },
     "execution_count": 7,
     "metadata": {},
     "output_type": "execute_result"
    }
   ],
   "source": [
    "courses.iloc[1:4, 0]"
   ]
  },
  {
   "cell_type": "code",
   "execution_count": 8,
   "metadata": {
    "execution": {
     "iopub.execute_input": "2022-08-19T15:29:11.952641Z",
     "iopub.status.busy": "2022-08-19T15:29:11.951950Z",
     "iopub.status.idle": "2022-08-19T15:29:11.963250Z",
     "shell.execute_reply": "2022-08-19T15:29:11.961891Z",
     "shell.execute_reply.started": "2022-08-19T15:29:11.952601Z"
    }
   },
   "outputs": [
    {
     "data": {
      "text/html": [
       "<div>\n",
       "<style scoped>\n",
       "    .dataframe tbody tr th:only-of-type {\n",
       "        vertical-align: middle;\n",
       "    }\n",
       "\n",
       "    .dataframe tbody tr th {\n",
       "        vertical-align: top;\n",
       "    }\n",
       "\n",
       "    .dataframe thead th {\n",
       "        text-align: right;\n",
       "    }\n",
       "</style>\n",
       "<table border=\"1\" class=\"dataframe\">\n",
       "  <thead>\n",
       "    <tr style=\"text-align: right;\">\n",
       "      <th></th>\n",
       "      <th>Course_Code</th>\n",
       "      <th>Course_Unit</th>\n",
       "    </tr>\n",
       "  </thead>\n",
       "  <tbody>\n",
       "    <tr>\n",
       "      <th>Introductory Waves and Modern Physics</th>\n",
       "      <td>PHY105</td>\n",
       "      <td>3</td>\n",
       "    </tr>\n",
       "    <tr>\n",
       "      <th>Experimental Physics</th>\n",
       "      <td>PHY118</td>\n",
       "      <td>3</td>\n",
       "    </tr>\n",
       "  </tbody>\n",
       "</table>\n",
       "</div>"
      ],
      "text/plain": [
       "                                      Course_Code  Course_Unit\n",
       "Introductory Waves and Modern Physics      PHY105            3\n",
       "Experimental Physics                       PHY118            3"
      ]
     },
     "execution_count": 8,
     "metadata": {},
     "output_type": "execute_result"
    }
   ],
   "source": [
    "courses.iloc[-2:]"
   ]
  },
  {
   "cell_type": "code",
   "execution_count": 15,
   "metadata": {
    "execution": {
     "iopub.execute_input": "2022-08-19T15:30:05.812896Z",
     "iopub.status.busy": "2022-08-19T15:30:05.812454Z",
     "iopub.status.idle": "2022-08-19T15:30:05.823137Z",
     "shell.execute_reply": "2022-08-19T15:30:05.822266Z",
     "shell.execute_reply.started": "2022-08-19T15:30:05.812858Z"
    }
   },
   "outputs": [],
   "source": [
    "courses.iloc[1:3:]"
   ]
  },
  {
   "cell_type": "code",
   "execution_count": 16,
   "metadata": {
    "execution": {
     "iopub.execute_input": "2022-08-19T15:30:30.761409Z",
     "iopub.status.busy": "2022-08-19T15:30:30.760993Z",
     "iopub.status.idle": "2022-08-19T15:30:30.772749Z",
     "shell.execute_reply": "2022-08-19T15:30:30.771830Z",
     "shell.execute_reply.started": "2022-08-19T15:30:30.761375Z"
    }
   },
   "outputs": [],
   "source": [
    "courses.iloc[1:3]"
   ]
  },
  {
   "cell_type": "code",
   "execution_count": 12,
   "metadata": {},
   "outputs": [
    {
     "data": {
      "text/plain": [
       "15"
      ]
     },
     "execution_count": 12,
     "metadata": {},
     "output_type": "execute_result"
    }
   ],
   "source": [
    "courses.Course_Unit.sum()"
   ]
  },
  {
   "cell_type": "code",
   "execution_count": null,
   "metadata": {},
   "outputs": [],
   "source": []
  }
 ],
 "metadata": {
  "kernelspec": {
   "display_name": "Python 3 (ipykernel)",
   "language": "python",
   "name": "python3"
  },
  "language_info": {
   "codemirror_mode": {
    "name": "ipython",
    "version": 3
   },
   "file_extension": ".py",
   "mimetype": "text/x-python",
   "name": "python",
   "nbconvert_exporter": "python",
   "pygments_lexer": "ipython3",
   "version": "3.9.12"
  }
 },
 "nbformat": 4,
 "nbformat_minor": 4
}
