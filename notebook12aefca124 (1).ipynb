{
 "cells": [
  {
   "cell_type": "code",
   "execution_count": 1,
   "metadata": {
    "_cell_guid": "b1076dfc-b9ad-4769-8c92-a6c4dae69d19",
    "_uuid": "8f2839f25d086af736a60e9eeb907d3b93b6e0e5",
    "execution": {
     "iopub.execute_input": "2022-08-04T11:00:16.238991Z",
     "iopub.status.busy": "2022-08-04T11:00:16.237697Z",
     "iopub.status.idle": "2022-08-04T11:00:16.268241Z",
     "shell.execute_reply": "2022-08-04T11:00:16.267189Z",
     "shell.execute_reply.started": "2022-08-04T11:00:16.238865Z"
    }
   },
   "outputs": [],
   "source": [
    "# This Python 3 environment comes with many helpful analytics libraries installed\n",
    "# It is defined by the kaggle/python Docker image: https://github.com/kaggle/docker-python\n",
    "# For example, here's several helpful packages to load\n",
    "\n",
    "import numpy as np # linear algebra\n",
    "import pandas as pd # data processing, CSV file I/O (e.g. pd.read_csv)\n",
    "\n",
    "# Input data files are available in the read-only \"../input/\" directory\n",
    "# For example, running this (by clicking run or pressing Shift+Enter) will list all files under the input directory\n",
    "\n",
    "import os\n",
    "for dirname, _, filenames in os.walk('/kaggle/input'):\n",
    "    for filename in filenames:\n",
    "        print(os.path.join(dirname, filename))\n",
    "\n",
    "# You can write up to 20GB to the current directory (/kaggle/working/) that gets preserved as output when you create a version using \"Save & Run All\" \n",
    "# You can also write temporary files to /kaggle/temp/, but they won't be saved outside of the current session"
   ]
  },
  {
   "cell_type": "code",
   "execution_count": 2,
   "metadata": {
    "execution": {
     "iopub.execute_input": "2022-08-04T11:04:07.217933Z",
     "iopub.status.busy": "2022-08-04T11:04:07.217374Z",
     "iopub.status.idle": "2022-08-04T11:04:07.225617Z",
     "shell.execute_reply": "2022-08-04T11:04:07.224576Z",
     "shell.execute_reply.started": "2022-08-04T11:04:07.217892Z"
    }
   },
   "outputs": [
    {
     "name": "stdout",
     "output_type": "stream",
     "text": [
      "396.0\n"
     ]
    }
   ],
   "source": [
    "def get_pay(num_hours):\n",
    "    pay_pretax = num_hours * 15\n",
    "    pay_aftertax = pay_pretax * .88\n",
    "    return pay_aftertax\n",
    "paycheck = get_pay(30)\n",
    "print(paycheck)"
   ]
  },
  {
   "cell_type": "code",
   "execution_count": 3,
   "metadata": {
    "execution": {
     "iopub.execute_input": "2022-08-04T11:08:10.419250Z",
     "iopub.status.busy": "2022-08-04T11:08:10.418681Z",
     "iopub.status.idle": "2022-08-04T11:08:10.425954Z",
     "shell.execute_reply": "2022-08-04T11:08:10.423970Z",
     "shell.execute_reply.started": "2022-08-04T11:08:10.419210Z"
    }
   },
   "outputs": [
    {
     "name": "stdout",
     "output_type": "stream",
     "text": [
      "528.0\n"
     ]
    }
   ],
   "source": [
    "pay_fulltime = get_pay(40)\n",
    "print(pay_fulltime)"
   ]
  },
  {
   "cell_type": "code",
   "execution_count": 5,
   "metadata": {},
   "outputs": [
    {
     "name": "stdout",
     "output_type": "stream",
     "text": [
      "262.5\n"
     ]
    }
   ],
   "source": [
    "def get_pay_with_more_input(num_hours,hourly_pay,tax_rate):\n",
    "    pay_pretax = num_hours * hourly_pay\n",
    "    pay_aftertax = pay_pretax * tax_rate\n",
    "    return pay_aftertax\n",
    "paycheck = get_pay_with_more_input(70,15,.25)\n",
    "print(paycheck)"
   ]
  },
  {
   "cell_type": "code",
   "execution_count": 6,
   "metadata": {},
   "outputs": [
    {
     "data": {
      "text/plain": [
       "'**********'"
      ]
     },
     "execution_count": 6,
     "metadata": {},
     "output_type": "execute_result"
    }
   ],
   "source": []
  },
  {
   "cell_type": "code",
   "execution_count": null,
   "metadata": {},
   "outputs": [],
   "source": []
  }
 ],
 "metadata": {
  "kernelspec": {
   "display_name": "Python 3 (ipykernel)",
   "language": "python",
   "name": "python3"
  },
  "language_info": {
   "codemirror_mode": {
    "name": "ipython",
    "version": 3
   },
   "file_extension": ".py",
   "mimetype": "text/x-python",
   "name": "python",
   "nbconvert_exporter": "python",
   "pygments_lexer": "ipython3",
   "version": "3.9.12"
  }
 },
 "nbformat": 4,
 "nbformat_minor": 4
}
